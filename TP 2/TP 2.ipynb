{
 "cells": [
  {
   "cell_type": "markdown",
   "metadata": {},
   "source": [
    "# 0 - Information"
   ]
  },
  {
   "cell_type": "code",
   "execution_count": null,
   "metadata": {},
   "outputs": [],
   "source": []
  },
  {
   "cell_type": "markdown",
   "metadata": {},
   "source": [
    "# 1 - Packages"
   ]
  },
  {
   "cell_type": "code",
   "execution_count": 1,
   "metadata": {
    "ExecuteTime": {
     "end_time": "2019-03-10T12:08:52.483762Z",
     "start_time": "2019-03-10T12:08:50.418104Z"
    }
   },
   "outputs": [
    {
     "name": "stderr",
     "output_type": "stream",
     "text": [
      "Using TensorFlow backend.\n"
     ]
    }
   ],
   "source": [
    "# Keras packages\n",
    "from keras.models import Sequential\n",
    "from keras.layers import Dense, Activation\n",
    "from keras.layers import Conv2D, MaxPooling2D, Flatten, Dropout, GlobalAveragePooling2D\n",
    "from keras.optimizers import SGD, Adam\n",
    "from keras.datasets import mnist\n",
    "from keras.utils import np_utils\n",
    "from keras import backend as K\n",
    "\n",
    "# Graphics packages\n",
    "%matplotlib inline\n",
    "import matplotlib.pyplot as plt\n",
    "import seaborn as sns\n",
    "sns.set()\n",
    "\n",
    "# Progress bar\n",
    "from tqdm import tqdm\n",
    "\n",
    "# Personal packages\n",
    "from myfunctions import *"
   ]
  },
  {
   "cell_type": "markdown",
   "metadata": {},
   "source": [
    "# Exercice 1: Monte-Carlo Dropout"
   ]
  },
  {
   "cell_type": "markdown",
   "metadata": {
    "ExecuteTime": {
     "end_time": "2019-03-08T17:08:49.796459Z",
     "start_time": "2019-03-08T17:07:31.455Z"
    }
   },
   "source": [
    "## a) Dropout"
   ]
  },
  {
   "cell_type": "markdown",
   "metadata": {},
   "source": [
    "## 1.a.1 - Constant Variables"
   ]
  },
  {
   "cell_type": "code",
   "execution_count": 2,
   "metadata": {
    "ExecuteTime": {
     "end_time": "2019-03-10T12:08:52.491755Z",
     "start_time": "2019-03-10T12:08:52.489760Z"
    }
   },
   "outputs": [],
   "source": [
    "NB_CLASSES = 10\n",
    "BATCH_SIZE = 100\n",
    "NB_EPOCH = 20"
   ]
  },
  {
   "cell_type": "markdown",
   "metadata": {},
   "source": [
    "## 1.a.2 - Architecture of the Model"
   ]
  },
  {
   "cell_type": "code",
   "execution_count": 3,
   "metadata": {
    "ExecuteTime": {
     "end_time": "2019-03-10T12:08:52.641223Z",
     "start_time": "2019-03-10T12:08:52.498458Z"
    }
   },
   "outputs": [],
   "source": [
    "class CNN(object):\n",
    "    \n",
    "    def __init__(self, dropout=True, verbose=1, batch_size=BATCH_SIZE, nb_epoch=NB_EPOCH):\n",
    "        \"\"\"Initialisation of the CNN parameters.\"\"\"\n",
    "        \n",
    "        # Attribute for the architecture\n",
    "        self.dropout = dropout\n",
    "        \n",
    "        # Attributes for the training\n",
    "        self.batch_size = batch_size\n",
    "        self.nb_epoch = nb_epoch\n",
    "        self.verbose = verbose\n",
    "        \n",
    "        # Build the model\n",
    "        self.build()\n",
    "        \n",
    "    def build(self):\n",
    "        \"\"\"Build the architecture of the model.\"\"\"\n",
    "\n",
    "        input_shape = (28, 28, 1)\n",
    "        self.model = Sequential()\n",
    "        self.model.add(Conv2D(16, kernel_size=(5, 5),  activation='relu',\n",
    "                              input_shape=input_shape, padding='valid' ))\n",
    "        self.model.add(MaxPooling2D(pool_size=(2, 2)))\n",
    "        self.model.add(Conv2D(32, (5, 5), activation='relu', padding='valid'))\n",
    "        self.model.add(MaxPooling2D(pool_size=(2, 2)))\n",
    "        self.model.add(Flatten())\n",
    "        \n",
    "        # Add Dropout if specified\n",
    "        if self.dropout:\n",
    "            self.model.add(Dropout(0.25))\n",
    "            \n",
    "        self.model.add(Dense(100, activation='sigmoid'))\n",
    "        \n",
    "        # Add Dropout if specified\n",
    "        if self.dropout:\n",
    "            self.model.add(Dropout(0.5))\n",
    "            \n",
    "        self.model.add(Dense(NB_CLASSES, activation='softmax'))\n",
    "        \n",
    "        # Definition of the compiler of the neural network\n",
    "        self.model.compile(loss='categorical_crossentropy', optimizer=Adam(),\n",
    "                           metrics=['accuracy'])\n",
    "        \n",
    "    def fit(self, X_train, Y_train, X_test=None, Y_test=None):\n",
    "        \"\"\"fit the model.\"\"\"\n",
    "        \n",
    "        if not(X_test is None) and not(Y_test is None):\n",
    "            history = self.model.fit(X_train, Y_train,\n",
    "                                     batch_size=self.batch_size, epochs=self.nb_epoch,\n",
    "                                     verbose=self.verbose,\n",
    "                                     validation_data=(X_test, Y_test))\n",
    "        else:\n",
    "            history = self.model.fit(X_train, Y_train,\n",
    "                                     batch_size=self.batch_size, epochs=self.nb_epoch,\n",
    "                                     verbose=self.verbose)\n",
    "        \n",
    "        return history\n",
    "    \n",
    "# Instantiate a CNN\n",
    "cnn_model = CNN()"
   ]
  },
  {
   "cell_type": "markdown",
   "metadata": {},
   "source": [
    "## 1.a.3 - Summary of the model"
   ]
  },
  {
   "cell_type": "code",
   "execution_count": 4,
   "metadata": {
    "ExecuteTime": {
     "end_time": "2019-03-10T12:08:52.887480Z",
     "start_time": "2019-03-10T12:08:52.883358Z"
    }
   },
   "outputs": [
    {
     "name": "stdout",
     "output_type": "stream",
     "text": [
      "_________________________________________________________________\n",
      "Layer (type)                 Output Shape              Param #   \n",
      "=================================================================\n",
      "conv2d_1 (Conv2D)            (None, 24, 24, 16)        416       \n",
      "_________________________________________________________________\n",
      "max_pooling2d_1 (MaxPooling2 (None, 12, 12, 16)        0         \n",
      "_________________________________________________________________\n",
      "conv2d_2 (Conv2D)            (None, 8, 8, 32)          12832     \n",
      "_________________________________________________________________\n",
      "max_pooling2d_2 (MaxPooling2 (None, 4, 4, 32)          0         \n",
      "_________________________________________________________________\n",
      "flatten_1 (Flatten)          (None, 512)               0         \n",
      "_________________________________________________________________\n",
      "dropout_1 (Dropout)          (None, 512)               0         \n",
      "_________________________________________________________________\n",
      "dense_1 (Dense)              (None, 100)               51300     \n",
      "_________________________________________________________________\n",
      "dropout_2 (Dropout)          (None, 100)               0         \n",
      "_________________________________________________________________\n",
      "dense_2 (Dense)              (None, 10)                1010      \n",
      "=================================================================\n",
      "Total params: 65,558\n",
      "Trainable params: 65,558\n",
      "Non-trainable params: 0\n",
      "_________________________________________________________________\n"
     ]
    }
   ],
   "source": [
    "cnn_model.model.summary()"
   ]
  },
  {
   "cell_type": "markdown",
   "metadata": {},
   "source": [
    "## 1.a.4 - Training of the model"
   ]
  },
  {
   "cell_type": "code",
   "execution_count": 5,
   "metadata": {
    "ExecuteTime": {
     "end_time": "2019-03-10T12:10:47.153620Z",
     "start_time": "2019-03-10T12:08:53.370470Z"
    },
    "scrolled": true
   },
   "outputs": [
    {
     "name": "stdout",
     "output_type": "stream",
     "text": [
      "Train on 60000 samples, validate on 10000 samples\n",
      "Epoch 1/20\n",
      "60000/60000 [==============================] - 7s 121us/step - loss: 0.4925 - acc: 0.8546 - val_loss: 0.1047 - val_acc: 0.9697\n",
      "Epoch 2/20\n",
      "60000/60000 [==============================] - 5s 89us/step - loss: 0.1593 - acc: 0.9566 - val_loss: 0.0673 - val_acc: 0.9799\n",
      "Epoch 3/20\n",
      "60000/60000 [==============================] - 5s 92us/step - loss: 0.1161 - acc: 0.9666 - val_loss: 0.0506 - val_acc: 0.9848\n",
      "Epoch 4/20\n",
      "60000/60000 [==============================] - 6s 94us/step - loss: 0.0916 - acc: 0.9739 - val_loss: 0.0373 - val_acc: 0.9881\n",
      "Epoch 5/20\n",
      "60000/60000 [==============================] - 5s 83us/step - loss: 0.0775 - acc: 0.9778 - val_loss: 0.0331 - val_acc: 0.9897\n",
      "Epoch 6/20\n",
      "60000/60000 [==============================] - 5s 82us/step - loss: 0.0689 - acc: 0.9804 - val_loss: 0.0304 - val_acc: 0.9904\n",
      "Epoch 7/20\n",
      "60000/60000 [==============================] - 5s 82us/step - loss: 0.0627 - acc: 0.9816 - val_loss: 0.0282 - val_acc: 0.9906\n",
      "Epoch 8/20\n",
      "60000/60000 [==============================] - 5s 82us/step - loss: 0.0553 - acc: 0.9836 - val_loss: 0.0258 - val_acc: 0.9914\n",
      "Epoch 9/20\n",
      "60000/60000 [==============================] - 5s 83us/step - loss: 0.0530 - acc: 0.9848 - val_loss: 0.0271 - val_acc: 0.9908\n",
      "Epoch 10/20\n",
      "60000/60000 [==============================] - 5s 91us/step - loss: 0.0481 - acc: 0.9859 - val_loss: 0.0229 - val_acc: 0.9922\n",
      "Epoch 11/20\n",
      "60000/60000 [==============================] - 5s 83us/step - loss: 0.0446 - acc: 0.9872 - val_loss: 0.0244 - val_acc: 0.9913\n",
      "Epoch 12/20\n",
      "60000/60000 [==============================] - 5s 82us/step - loss: 0.0437 - acc: 0.9868 - val_loss: 0.0253 - val_acc: 0.9915\n",
      "Epoch 13/20\n",
      "60000/60000 [==============================] - 5s 90us/step - loss: 0.0401 - acc: 0.9882 - val_loss: 0.0231 - val_acc: 0.9923\n",
      "Epoch 14/20\n",
      "60000/60000 [==============================] - 6s 101us/step - loss: 0.0373 - acc: 0.9887 - val_loss: 0.0224 - val_acc: 0.9928\n",
      "Epoch 15/20\n",
      "60000/60000 [==============================] - 6s 103us/step - loss: 0.0357 - acc: 0.9895 - val_loss: 0.0218 - val_acc: 0.9920\n",
      "Epoch 16/20\n",
      "60000/60000 [==============================] - 6s 101us/step - loss: 0.0332 - acc: 0.9893 - val_loss: 0.0240 - val_acc: 0.9923\n",
      "Epoch 17/20\n",
      "60000/60000 [==============================] - 7s 119us/step - loss: 0.0346 - acc: 0.9895 - val_loss: 0.0201 - val_acc: 0.9936\n",
      "Epoch 18/20\n",
      "60000/60000 [==============================] - 7s 116us/step - loss: 0.0313 - acc: 0.9903 - val_loss: 0.0197 - val_acc: 0.9933\n",
      "Epoch 19/20\n",
      "60000/60000 [==============================] - 6s 97us/step - loss: 0.0301 - acc: 0.9907 - val_loss: 0.0222 - val_acc: 0.9931\n",
      "Epoch 20/20\n",
      "60000/60000 [==============================] - 6s 92us/step - loss: 0.0286 - acc: 0.9912 - val_loss: 0.0207 - val_acc: 0.9932\n"
     ]
    }
   ],
   "source": [
    "# Load data\n",
    "(x_train, y_train), (x_test, y_test) = mnist.load_data()\n",
    "\n",
    "# convert class vectors to binary class matrices\n",
    "Y_train = np_utils.to_categorical(y_train, NB_CLASSES)\n",
    "Y_test = np_utils.to_categorical(y_test, NB_CLASSES)\n",
    "\n",
    "# Reshape and normalise the data\n",
    "x_train = x_train.reshape(x_train.shape[0], 28, 28, 1)\n",
    "x_test = x_test.reshape(x_test.shape[0], 28, 28, 1)\n",
    "x_train = x_train.astype('float32')\n",
    "x_test = x_test.astype('float32')\n",
    "x_train /= 255\n",
    "x_test /= 255\n",
    "\n",
    "# Train the network\n",
    "history = cnn_model.fit(x_train, Y_train, x_test, Y_test)"
   ]
  },
  {
   "cell_type": "markdown",
   "metadata": {},
   "source": [
    "## 1.a.5 - Assesment of the model"
   ]
  },
  {
   "cell_type": "code",
   "execution_count": 6,
   "metadata": {
    "ExecuteTime": {
     "end_time": "2019-03-10T12:10:51.285791Z",
     "start_time": "2019-03-10T12:10:47.174557Z"
    }
   },
   "outputs": [
    {
     "name": "stdout",
     "output_type": "stream",
     "text": [
      "TRAIN: loss: 0.91%\n",
      "TRAIN: acc: 99.71%\n",
      "TEST: loss: 2.07%\n",
      "TEST: acc: 99.32%\n",
      "nb err dropout=68\n"
     ]
    }
   ],
   "source": [
    "# Scores on the training set\n",
    "scores = cnn_model.model.evaluate(x_train, Y_train, verbose=0)\n",
    "print(\"TRAIN: %s: %.2f%%\" % (cnn_model.model.metrics_names[0], scores[0]*100))\n",
    "print(\"TRAIN: %s: %.2f%%\" % (cnn_model.model.metrics_names[1], scores[1]*100))\n",
    "\n",
    "# Scores on the testing set\n",
    "scores = cnn_model.model.evaluate(x_test, Y_test, verbose=0)\n",
    "print(\"TEST: %s: %.2f%%\" % (cnn_model.model.metrics_names[0], scores[0]*100))\n",
    "print(\"TEST: %s: %.2f%%\" % (cnn_model.model.metrics_names[1], scores[1]*100))\n",
    "\n",
    "# Total number of error for the testing dataset\n",
    "nberr = int(round((1.0 - scores[1]) * x_test.shape[0]))\n",
    "print(\"nb err dropout=\"+str(nberr))"
   ]
  },
  {
   "cell_type": "code",
   "execution_count": 7,
   "metadata": {
    "ExecuteTime": {
     "end_time": "2019-03-10T12:10:51.317616Z",
     "start_time": "2019-03-10T12:10:51.307897Z"
    }
   },
   "outputs": [],
   "source": [
    "def displayMetrics():\n",
    "    \"\"\"Display the mertices over the different iterations with and without dropout.\"\"\"\n",
    "    \n",
    "    # Definition of the possible dropouts\n",
    "    dropout_l = [False, True]\n",
    "    \n",
    "    # Initialisation of the resulting figures\n",
    "    fig, axs = plt.subplots(2, 2, figsize=(15, 12))\n",
    "    \n",
    "    for i in tqdm(range(2)):\n",
    "        \n",
    "        # Dropout\n",
    "        dropout = dropout_l[i]\n",
    "        \n",
    "        # Instantiate a CNN\n",
    "        cnn_model_i = CNN(dropout=dropout, verbose=0)\n",
    "\n",
    "        # Train the network\n",
    "        history_i = cnn_model_i.fit(x_train, Y_train, x_test, Y_test)\n",
    "\n",
    "        # Display thye metrics\n",
    "        for j, key in enumerate(list(history.history.keys())[2: ]):\n",
    "    \n",
    "            # Plot loss & accuracy values\n",
    "            axs[i, j].plot(history_i.history[key], label=\"Training Set\")\n",
    "            axs[i, j].plot(history_i.history[\"val_\" + key], label=\"Test Set\")\n",
    "            \n",
    "            # Parameter of the figure\n",
    "            axs[i, j].set_title('Dropout: {}, Metric: {}'.format(dropout, key))\n",
    "            axs[i, j].set_ylabel(key)\n",
    "            axs[i, j].set_xlabel('Epoch')\n",
    "            axs[i, j].legend()\n",
    "        \n",
    "        \n",
    "    # Show the figure\n",
    "    plt.show()"
   ]
  },
  {
   "cell_type": "code",
   "execution_count": 8,
   "metadata": {
    "ExecuteTime": {
     "end_time": "2019-03-10T12:14:52.158421Z",
     "start_time": "2019-03-10T12:10:51.339313Z"
    }
   },
   "outputs": [
    {
     "name": "stderr",
     "output_type": "stream",
     "text": [
      "100%|██████████| 2/2 [03:58<00:00, 115.97s/it]\n"
     ]
    },
    {
     "data": {
      "image/png": "[encoded data removed]",
      "text/plain": [
       "<Figure size 1080x864 with 4 Axes>"
      ]
     },
     "metadata": {
      "needs_background": "light"
     },
     "output_type": "display_data"
    }
   ],
   "source": [
    "displayMetrics()"
   ]
  },
  {
   "cell_type": "markdown",
   "metadata": {},
   "source": [
    "Commentaires:\n",
    "-------------\n",
    "\n",
    "* Dans le TP 1, nou avions utilisé la même architecture mais sans dropout. Nous avions obtenu une présicion proche de 99.2% pour le testing set. Avec le dropout, la précision a augmenté à 99.3%. Cependant, ceci c'est fait au prix d'un accroissement du nombre d'époques d'entraînement. Le vrai avatange du dropout se trouve au niveau de l'overfitting. En particulier, on peut l'observer sur les figures ci-dessus (cf figures du bas) où à la fois la loss et la précision sur le Testing Set sont cette fois meilleure que sans Dropout.\n",
    "\n",
    "* Augmenter le nombre d'époques étaient à la fois souhaitable (pas d'over-fitting comme on vient de le voir) mais aussi nécessaire car du fait de l'aléatoire des dropouts, la convergence du réseau de neurones est potentiellement plus instable, c'est pourquoi des époques supplémentaires peuvent être nécessaires. Comme on le peut voir sur les figures ci-dessus, la convergence est plus rapide sans Dropout mais le maximum atteint est moins bon."
   ]
  },
  {
   "cell_type": "markdown",
   "metadata": {},
   "source": [
    "## 1.a.6 - Save the Model"
   ]
  },
  {
   "cell_type": "code",
   "execution_count": 9,
   "metadata": {
    "ExecuteTime": {
     "end_time": "2019-03-10T12:14:52.367670Z",
     "start_time": "2019-03-10T12:14:52.193377Z"
    }
   },
   "outputs": [
    {
     "name": "stdout",
     "output_type": "stream",
     "text": [
      "Yaml Model  ./Results/CNN_Model .yaml saved to disk\n",
      "Weights  ./Results/CNN_Model .h5 saved to disk\n"
     ]
    }
   ],
   "source": [
    "saveModel(cnn_model.model, \"./Results/CNN_Model\")"
   ]
  },
  {
   "cell_type": "markdown",
   "metadata": {},
   "source": [
    "## b) Monte Carlo Sampling"
   ]
  },
  {
   "cell_type": "code",
   "execution_count": 10,
   "metadata": {
    "ExecuteTime": {
     "end_time": "2019-03-10T12:18:11.947417Z",
     "start_time": "2019-03-10T12:14:52.386113Z"
    }
   },
   "outputs": [
    {
     "name": "stdout",
     "output_type": "stream",
     "text": [
      "Yaml Model  ./Results/CNN_Model .yaml loaded \n",
      "Weights  ./Results/CNN_Model .h5 loaded \n"
     ]
    }
   ],
   "source": [
    "# Load the model\n",
    "model = loadModel(\"./Results/CNN_Model\")\n",
    "\n",
    "# Number of Monte Carlo samples\n",
    "nS = 1000\n",
    "\n",
    "# Definition of the new model\n",
    "MC_output = K.function([model.layers[0].input, K.learning_phase()], [model.layers[-1].output])\n",
    "learning_phase = True  # use dropout at test time\n",
    "\n",
    "# Compute nS predictions for the testing set\n",
    "MC_samples = [MC_output([x_test, learning_phase])[0] for _ in range(nS)]\n",
    "MC_samples = np.array(MC_samples)\n",
    "\n",
    "# Save predictions for the testing set with Dropout\n",
    "outfile = './Results/MC_predictions'\n",
    "np.savez(outfile, MC_samples=MC_samples)"
   ]
  },
  {
   "cell_type": "code",
   "execution_count": 11,
   "metadata": {
    "ExecuteTime": {
     "end_time": "2019-03-10T12:18:12.082665Z",
     "start_time": "2019-03-10T12:18:11.976918Z"
    }
   },
   "outputs": [
    {
     "name": "stdout",
     "output_type": "stream",
     "text": [
      "Nb errors MC dropout= 70.0\n"
     ]
    }
   ],
   "source": [
    "# Extract the predictions for the maximal probability\n",
    "predictions = np.mean(MC_samples, axis=0)\n",
    "y_preds = np.argmax(predictions, axis=1)\n",
    "\n",
    "# Count the number of error\n",
    "nberr_S = np.where(y_preds != y_test, 1.0, 0.0).sum()\n",
    "print(\"Nb errors MC dropout= \" + str(nberr_S))"
   ]
  },
  {
   "cell_type": "markdown",
   "metadata": {},
   "source": [
    "Commentaires:\n",
    "------------------\n",
    "\n",
    "On obtient donc ll'erreur moyenne de l'estimation MC: $ 70 / 1000 = 7 \\%$"
   ]
  },
  {
   "cell_type": "markdown",
   "metadata": {
    "ExecuteTime": {
     "end_time": "2019-03-08T17:35:23.159604Z",
     "start_time": "2019-03-08T17:35:23.156875Z"
    }
   },
   "source": [
    "# Exercice 2 : Visualisation d’exemples incertains"
   ]
  },
  {
   "cell_type": "markdown",
   "metadata": {},
   "source": [
    "## 2.1 - Definitoon of the model"
   ]
  },
  {
   "cell_type": "code",
   "execution_count": 12,
   "metadata": {
    "ExecuteTime": {
     "end_time": "2019-03-10T12:18:12.810386Z",
     "start_time": "2019-03-10T12:18:12.117047Z"
    },
    "scrolled": false
   },
   "outputs": [
    {
     "name": "stdout",
     "output_type": "stream",
     "text": [
      "Yaml Model  ./Results/CNN_Model .yaml loaded \n",
      "Weights  ./Results/CNN_Model .h5 loaded \n",
      "_________________________________________________________________\n",
      "Layer (type)                 Output Shape              Param #   \n",
      "=================================================================\n",
      "conv2d_1 (Conv2D)            (None, 24, 24, 16)        416       \n",
      "_________________________________________________________________\n",
      "max_pooling2d_1 (MaxPooling2 (None, 12, 12, 16)        0         \n",
      "_________________________________________________________________\n",
      "conv2d_2 (Conv2D)            (None, 8, 8, 32)          12832     \n",
      "_________________________________________________________________\n",
      "max_pooling2d_2 (MaxPooling2 (None, 4, 4, 32)          0         \n",
      "_________________________________________________________________\n",
      "flatten_1 (Flatten)          (None, 512)               0         \n",
      "_________________________________________________________________\n",
      "dropout_1 (Dropout)          (None, 512)               0         \n",
      "_________________________________________________________________\n",
      "dense_1 (Dense)              (None, 100)               51300     \n",
      "_________________________________________________________________\n",
      "dropout_2 (Dropout)          (None, 100)               0         \n",
      "_________________________________________________________________\n",
      "dense_2 (Dense)              (None, 10)                1010      \n",
      "=================================================================\n",
      "Total params: 65,558\n",
      "Trainable params: 65,558\n",
      "Non-trainable params: 0\n",
      "_________________________________________________________________\n"
     ]
    }
   ],
   "source": [
    "# LOADING MODEL\n",
    "nameModel = \"./Results/CNN_Model\"\n",
    "model = loadModel(nameModel)\n",
    "model.compile(loss='categorical_crossentropy', optimizer=Adam(), metrics=['accuracy'])\n",
    "model.summary()"
   ]
  },
  {
   "cell_type": "markdown",
   "metadata": {},
   "source": [
    "## 2.2 - Loading of the data"
   ]
  },
  {
   "cell_type": "code",
   "execution_count": 13,
   "metadata": {
    "ExecuteTime": {
     "end_time": "2019-03-10T12:18:14.545362Z",
     "start_time": "2019-03-10T12:18:12.867330Z"
    }
   },
   "outputs": [],
   "source": [
    "# Lading of the MNIST Dataset\n",
    "(x_train, y_train), (x_test, y_test) = mnist.load_data()\n",
    "\n",
    "# Convert class vectors to binary class matrices\n",
    "Y_train = np_utils.to_categorical(y_train, NB_CLASSES)\n",
    "Y_test = np_utils.to_categorical(y_test, NB_CLASSES)\n",
    "x_train = x_train.reshape(x_train.shape[0], 28, 28, 1)\n",
    "x_test = x_test.reshape(x_test.shape[0], 28, 28, 1)\n",
    "x_train = x_train.astype('float32')\n",
    "x_test = x_test.astype('float32')\n",
    "x_train /= 255\n",
    "x_test /= 255\n",
    "\n",
    "# Loading MC Predictions\n",
    "outfile = './Results/MC_predictions.npz'\n",
    "npzfile = np.load(outfile)\n",
    "MC_samples = npzfile['MC_samples']\n",
    "nS = MC_samples.shape[0]"
   ]
  },
  {
   "cell_type": "markdown",
   "metadata": {},
   "source": [
    "## 2.3 - Evaluation of the Model"
   ]
  },
  {
   "cell_type": "code",
   "execution_count": 14,
   "metadata": {
    "ExecuteTime": {
     "end_time": "2019-03-10T12:18:19.999588Z",
     "start_time": "2019-03-10T12:18:14.589195Z"
    }
   },
   "outputs": [
    {
     "name": "stdout",
     "output_type": "stream",
     "text": [
      "TRAIN: loss: 0.91%\n",
      "TRAIN: acc: 99.71%\n",
      "TEST: loss: 2.07%\n",
      "TEST: acc: 99.32%\n"
     ]
    }
   ],
   "source": [
    "# EVALUATING MODEL\n",
    "scores = model.evaluate(x_train, Y_train, verbose=0)\n",
    "print(\"TRAIN: %s: %.2f%%\" % (model.metrics_names[0], scores[0]*100))\n",
    "print(\"TRAIN: %s: %.2f%%\" % (model.metrics_names[1], scores[1]*100))\n",
    "\n",
    "scores = model.evaluate(x_test, Y_test, verbose=0)\n",
    "print(\"TEST: %s: %.2f%%\" % (model.metrics_names[0], scores[0]*100))\n",
    "print(\"TEST: %s: %.2f%%\" % (model.metrics_names[1], scores[1]*100))\n",
    "\n",
    "nberr = int(round((1.0 - scores[1])*10000))"
   ]
  },
  {
   "cell_type": "markdown",
   "metadata": {},
   "source": [
    "## 2.4 - Computation of the Variation ratio"
   ]
  },
  {
   "cell_type": "code",
   "execution_count": 15,
   "metadata": {
    "ExecuteTime": {
     "end_time": "2019-03-10T12:18:22.900784Z",
     "start_time": "2019-03-10T12:18:20.001960Z"
    }
   },
   "outputs": [],
   "source": [
    "# Shape of x_test\n",
    "nb_test, _, _, _ = x_test.shape\n",
    "\n",
    "# Compute for every image and every samples the predictions\n",
    "am = np.argmax(MC_samples, axis=2)\n",
    "\n",
    "# Compute the histogram for every images of the predictions\n",
    "hists = [np.histogram(am[:, i], range=(0, 10)) for i in range(nb_test)]\n",
    "\n",
    "# Compute the variation ratio for every image\n",
    "fx = np.array([np.max(hists[x][0]) / nS for x in range(nb_test)])\n",
    "vr = 1.0 - fx"
   ]
  },
  {
   "cell_type": "markdown",
   "metadata": {
    "ExecuteTime": {
     "end_time": "2019-03-08T17:57:35.031958Z",
     "start_time": "2019-03-08T17:57:35.027043Z"
    }
   },
   "source": [
    "## 2.5 - Uncertain images"
   ]
  },
  {
   "cell_type": "code",
   "execution_count": 16,
   "metadata": {
    "ExecuteTime": {
     "end_time": "2019-03-10T12:18:29.721193Z",
     "start_time": "2019-03-10T12:18:29.698628Z"
    }
   },
   "outputs": [],
   "source": [
    "def showUncertainty(MC_sample, hist, img, title):\n",
    "    \"\"\"Show the uncertainity of classification of the images given in argument.\"\"\"\n",
    "    \n",
    "    # Size of the labels\n",
    "    size = 6\n",
    "    \n",
    "    # Compute the frequency of each classification for the given image\n",
    "    pred_mean = MC_sample.mean(axis=0)\n",
    "    \n",
    "    # Display the image\n",
    "    fig = plt.figure(dpi=150)\n",
    "    fig.suptitle(title, fontsize=\"x-large\")\n",
    "    fig.set_figheight(4)\n",
    "    fig.set_figwidth(4 * 5)\n",
    "    ax = plt.subplot(161)\n",
    "    plt.imshow(img, cmap='gray')\n",
    "    plt.axis('off')\n",
    "    \n",
    "    # Display the histograms\n",
    "    ax = plt.subplot(162)\n",
    "    ax.bar(range(10), pred_mean)\n",
    "    ax.set_title(\"Mean Pred\")\n",
    "    ax.set_xticks(range(10))\n",
    "    # Customise the size of the labels\n",
    "    for item in ([ax.title, ax.xaxis.label, ax.yaxis.label] +\\\n",
    "                 ax.get_xticklabels() + ax.get_yticklabels()):\n",
    "        item.set_fontsize(size)\n",
    "    \n",
    "    \n",
    "    # Display the histograms of the predictions\n",
    "    ax = plt.subplot(163)\n",
    "    ax.bar(range(10), hist)\n",
    "    ax.set_title(\"Samples Pred\")\n",
    "    ax.set_xticks(range(10))\n",
    "    for item in ([ax.title, ax.xaxis.label, ax.yaxis.label] +\\\n",
    "                 ax.get_xticklabels() + ax.get_yticklabels()):\n",
    "        item.set_fontsize(size)\n",
    "    \n",
    "    # Sort the predictions\n",
    "    asorted = np.argsort(pred_mean, axis=0)\n",
    "    \n",
    "    # Display the histogram of probability of predcitons for\n",
    "    # the 3 most probable classification\n",
    "    h1 = np.histogram(MC_sample[:, asorted[9]], range=(0.0, 1.0))\n",
    "    h2 = np.histogram(MC_sample[:, asorted[8]], range=(0.0, 1.0))\n",
    "    h3 = np.histogram(MC_sample[:, asorted[7]], range=(0.0, 1.0))\n",
    "    \n",
    "    # X labels\n",
    "    x_range = np.array([i / 10 for i in range(10)])\n",
    "\n",
    "    # Display h1\n",
    "    ax = plt.subplot(164)\n",
    "    ax.bar(x_range, h1[0], width=0.08)\n",
    "    ax.set_title(\"Class_\" + str(asorted[9]))\n",
    "    ax.set_yticks(np.arange(0, nS, 10))\n",
    "    ax.set_xticks(x_range)\n",
    "    for item in ([ax.title, ax.xaxis.label, ax.yaxis.label] + ax.get_xticklabels() + ax.get_yticklabels()):\n",
    "        item.set_fontsize(size)\n",
    "    \n",
    "    # Display h2\n",
    "    ax = plt.subplot(165)\n",
    "    ax.bar(x_range, h2[0], width=0.08)\n",
    "    ax.set_title(\"Class_\" + str(asorted[8]))\n",
    "    ax.set_yticks(np.arange(0, nS, 10))\n",
    "    ax.set_xticks(x_range)\n",
    "    for item in ([ax.title, ax.xaxis.label, ax.yaxis.label] + ax.get_xticklabels() + ax.get_yticklabels()):\n",
    "        item.set_fontsize(size)\n",
    "    \n",
    "    # Display h3\n",
    "    ax = plt.subplot(166)\n",
    "    ax.bar(x_range, h3[0], width=0.08)\n",
    "    ax.set_title(\"Class_\" + str(asorted[7]))\n",
    "    ax.set_yticks(np.arange(0, nS, 10))\n",
    "    ax.set_xticks(x_range)\n",
    "    for item in ([ax.title, ax.xaxis.label, ax.yaxis.label] + ax.get_xticklabels() + ax.get_yticklabels()):\n",
    "        item.set_fontsize(size)\n",
    "    \n",
    "    # Display the result\n",
    "    plt.show()"
   ]
  },
  {
   "cell_type": "code",
   "execution_count": 17,
   "metadata": {
    "ExecuteTime": {
     "end_time": "2019-03-10T12:18:41.523059Z",
     "start_time": "2019-03-10T12:18:33.062279Z"
    },
    "scrolled": false
   },
   "outputs": [
    {
     "data": {
      "image/png": "[encoded data removed]",
      "text/plain": [
       "<Figure size 3000x600 with 6 Axes>"
      ]
     },
     "metadata": {
      "needs_background": "light"
     },
     "output_type": "display_data"
    },
    {
     "name": "stdout",
     "output_type": "stream",
     "text": [
      "next example ? (0 to stop) - 0\n"
     ]
    }
   ],
   "source": [
    "# Sort the samples according to their uncertainity of predictions\n",
    "uncertain_samples = fx.argsort()\n",
    "\n",
    "# Compute the prediction according to the argmax of MC\n",
    "predictions = np.mean(MC_samples, axis=0)\n",
    "y_preds = np.argmax(predictions, axis=1)\n",
    "\n",
    "# Range among the uncertain images in which to extract images of test\n",
    "min = 0\n",
    "max = 10\n",
    "\n",
    "# Stopping criterion\n",
    "bStop = False\n",
    "\n",
    "while bStop == False:\n",
    "    \n",
    "    # Extract random index of uncertain images\n",
    "    cpt = np.random.randint(min, max)\n",
    "    index = uncertain_samples[cpt]\n",
    "    \n",
    "    # Display the uncertainity for this images\n",
    "    title = \"TRUE LABEL=\" + str(y_test[index]) + \"- PRED=\" + str(y_preds[index]) +\\\n",
    "            \" - Uncertainty=\" + str(\"{:0.2f}\".format(vr[index])) + \" rank=\" + str(cpt)\n",
    "    showUncertainty(MC_samples[:, index, :], hists[index][0],\n",
    "                    x_test[index, :, :, 0].reshape([28,28]), title)\n",
    "\n",
    "    entry = int(input(\"next example ? (0 to stop) - \"))\n",
    "    if entry == 0:\n",
    "        bStop = True"
   ]
  },
  {
   "cell_type": "markdown",
   "metadata": {},
   "source": [
    "Commentaires:\n",
    "------------------\n",
    "Décrivons les histogrammes ci-dessus:\n",
    "* 1) représente la probabilité de prédictions pour chaque classe pour l'exemple étudié.\n",
    "* 2) représente le nombre de fois samples où une classe donnée était prédite.\n",
    "* 3, 4 et 5) représentent un histogramme des probabilités de classification pour les trois classes les plus probables.\n",
    "\n",
    "On peut aussi remarquer que lorsque on prend des exemples pour lesquel l'incertitude est plus faible, la classification tend vers un Dirac correspondant à la classification correcte."
   ]
  },
  {
   "cell_type": "markdown",
   "metadata": {},
   "source": [
    "# Exercice 3: Apprentissage Actif et Incertitude"
   ]
  },
  {
   "cell_type": "markdown",
   "metadata": {},
   "source": [
    "## 3.1 - Define the model"
   ]
  },
  {
   "cell_type": "code",
   "execution_count": 18,
   "metadata": {
    "ExecuteTime": {
     "end_time": "2019-03-10T12:18:44.573312Z",
     "start_time": "2019-03-10T12:18:44.426995Z"
    }
   },
   "outputs": [],
   "source": [
    "# Instantiate the model\n",
    "cnn_model_3 = CNN(verbose=0, batch_size=20, nb_epoch=100)"
   ]
  },
  {
   "cell_type": "markdown",
   "metadata": {},
   "source": [
    "## 3.2 - Build a Training set"
   ]
  },
  {
   "cell_type": "code",
   "execution_count": 19,
   "metadata": {
    "ExecuteTime": {
     "end_time": "2019-03-10T12:18:47.680295Z",
     "start_time": "2019-03-10T12:18:47.671962Z"
    }
   },
   "outputs": [],
   "source": [
    "def ActiveSets(x_train=x_train, Y_train=Y_train):\n",
    "    \"\"\"Define the Active Sets.\"\"\"\n",
    "\n",
    "    # Saving array\n",
    "    idstart = []\n",
    "\n",
    "    #  Extract two samples per classes\n",
    "    for c in range(NB_CLASSES):\n",
    "        a = list(np.where(y_train == c)[0])\n",
    "        idstart.append(a[0])\n",
    "        idstart.append(a[1])\n",
    "\n",
    "    # Initialisation of the Active Set\n",
    "    nb_active_ex = 20\n",
    "    X_active = np.empty(x_train.shape)\n",
    "    Y_active = np.empty(Y_train.shape)\n",
    "\n",
    "    # Fill active set with first nbActive examples\n",
    "    X_active[0:nb_active_ex, :, :, :] = x_train[idstart, :, :, :]\n",
    "    Y_active[0:nb_active_ex, :] = Y_train[idstart, :]\n",
    "\n",
    "    # Delete the selected examples from the training set\n",
    "    mask = np.ones(x_train.shape[0], dtype=bool)\n",
    "    mask[idstart] = False\n",
    "    x_train = x_train[mask]\n",
    "    Y_train = Y_train[mask]\n",
    "    \n",
    "    return X_active, Y_active, nb_active_ex"
   ]
  },
  {
   "cell_type": "code",
   "execution_count": 20,
   "metadata": {
    "ExecuteTime": {
     "end_time": "2019-03-10T12:18:51.011853Z",
     "start_time": "2019-03-10T12:18:50.903281Z"
    }
   },
   "outputs": [],
   "source": [
    "# Definition of the active sets\n",
    "X_active, Y_active, nb_active_ex = ActiveSets()"
   ]
  },
  {
   "cell_type": "markdown",
   "metadata": {},
   "source": [
    "## 3.3 - Training of the model"
   ]
  },
  {
   "cell_type": "code",
   "execution_count": 21,
   "metadata": {
    "ExecuteTime": {
     "end_time": "2019-03-10T12:18:56.873838Z",
     "start_time": "2019-03-10T12:18:54.217684Z"
    },
    "scrolled": true
   },
   "outputs": [
    {
     "name": "stdout",
     "output_type": "stream",
     "text": [
      "20/20 [==============================] - 0s 8ms/step\n",
      "TRAIN: acc: 100.00%\n",
      "TEST: acc: 66.79%\n",
      "nb err dropout=3321\n"
     ]
    }
   ],
   "source": [
    "# Fitting of the model\n",
    "cnn_model_3.fit(X_active[0:nb_active_ex,:], Y_active[0:nb_active_ex,:])\n",
    "\n",
    "# Evaluating model in active set and test set\n",
    "scores = cnn_model_3.model.evaluate(X_active[0:nb_active_ex, :],\n",
    "                                    Y_active[0:nb_active_ex,:], verbose=1)\n",
    "print(\"TRAIN: %s: %.2f%%\" % (cnn_model_3.model.metrics_names[1], scores[1]*100))\n",
    "\n",
    "scores = cnn_model_3.model.evaluate(x_test, Y_test, verbose=0)\n",
    "print(\"TEST: %s: %.2f%%\" % (cnn_model_3.model.metrics_names[1], scores[1]*100))\n",
    "nb_err = int(round((1.0 - scores[1]) * x_test.shape[0]))\n",
    "print(\"nb err dropout=\"+str(nb_err))"
   ]
  },
  {
   "cell_type": "code",
   "execution_count": 22,
   "metadata": {
    "ExecuteTime": {
     "end_time": "2019-03-10T12:18:59.904475Z",
     "start_time": "2019-03-10T12:18:59.891449Z"
    }
   },
   "outputs": [],
   "source": [
    "def ActiveLearning(sampling_strategy=0, filename='./Results/Random',\n",
    "                   nb_err=nb_err, nb_active_ex=nb_active_ex,\n",
    "                   x_train=x_train, Y_train=Y_train):\n",
    "    \"\"\"Active Learning of the NN.\"\"\"\n",
    "    \n",
    "    # Number of examples to add at each iteration\n",
    "    nb_add = 100\n",
    "\n",
    "    # Number of times to add examples\n",
    "    nb_active_it = 10\n",
    "\n",
    "    # Saving array of errors\n",
    "    errors = np.zeros(nb_active_it + 1)\n",
    "    errors[0] = nb_err\n",
    "\n",
    "    for it in tqdm(range(nb_active_it)):\n",
    "\n",
    "        if(sampling_strategy==0):\n",
    "            # Select examples in a random order\n",
    "            uncertain_samples = np.random.choice(range(x_train.shape[0]), x_train.shape[0],\n",
    "                                                 replace=False)\n",
    "            \n",
    "        else:\n",
    "            # Select examples according to their variation ratio\n",
    "            uncertain_samples = sampling_strategy(cnn_model_3.model, x_train)\n",
    "\n",
    "        # Add new examples\n",
    "        X_active[nb_active_ex:nb_active_ex + nb_add, :, :, :] = x_train[uncertain_samples[0:nb_add],\n",
    "                                                                        :, :, :]\n",
    "        Y_active[nb_active_ex:nb_active_ex + nb_add, :] = Y_train[uncertain_samples[0:nb_add], :]\n",
    "        nb_active_ex += nb_add\n",
    "\n",
    "        # Remove sampled examples from training set\n",
    "        mask = np.ones(x_train.shape[0], dtype=bool)\n",
    "        mask[uncertain_samples[0:nb_add]] = False\n",
    "        x_train = x_train[mask]\n",
    "        Y_train = Y_train[mask]\n",
    "        print(\"nb_active_ex = \" + str(nb_active_ex) +\n",
    "              \", x_train.shape = \" + str(x_train.shape))\n",
    "\n",
    "        # Re-training of the model with new active set\n",
    "        cnn_model_3.fit(X_active[0:nb_active_ex, :], Y_active[0:nb_active_ex, :])\n",
    "\n",
    "        # Evaluation of the newly trained network\n",
    "        scores = cnn_model_3.model.evaluate(X_active[0:nb_active_ex,:],\n",
    "                                            Y_active[0:nb_active_ex,:], verbose=0)\n",
    "        print(\"TRAIN: %s: %.2f%%\" % (cnn_model_3.model.metrics_names[1], scores[1]*100))\n",
    "\n",
    "        scores = cnn_model_3.model.evaluate(x_test, Y_test, verbose=0)\n",
    "        print(\"TEST: %s: %.2f%%\" % (cnn_model_3.model.metrics_names[1], scores[1]*100))\n",
    "        nb_err = int(round((1.0 - scores[1]) * x_test.shape[0]))\n",
    "        print(\"nb err dropout=\"+str(nb_err))\n",
    "\n",
    "        # Update the saving array of erros\n",
    "        errors[it + 1] = nb_err\n",
    "\n",
    "    # Save the result\n",
    "    np.savez(filename, errors=errors)"
   ]
  },
  {
   "cell_type": "code",
   "execution_count": 23,
   "metadata": {
    "ExecuteTime": {
     "end_time": "2019-03-10T12:22:10.014061Z",
     "start_time": "2019-03-10T12:19:02.846306Z"
    },
    "scrolled": true
   },
   "outputs": [
    {
     "name": "stderr",
     "output_type": "stream",
     "text": [
      "\r",
      "  0%|          | 0/10 [00:00<?, ?it/s]"
     ]
    },
    {
     "name": "stdout",
     "output_type": "stream",
     "text": [
      "nb_active_ex = 120, x_train.shape = (59900, 28, 28, 1)\n",
      "TRAIN: acc: 100.00%\n"
     ]
    },
    {
     "name": "stderr",
     "output_type": "stream",
     "text": [
      "\r",
      " 10%|█         | 1/10 [00:04<00:39,  4.34s/it]"
     ]
    },
    {
     "name": "stdout",
     "output_type": "stream",
     "text": [
      "TEST: acc: 88.17%\n",
      "nb err dropout=1183\n",
      "nb_active_ex = 220, x_train.shape = (59800, 28, 28, 1)\n",
      "TRAIN: acc: 100.00%\n"
     ]
    },
    {
     "name": "stderr",
     "output_type": "stream",
     "text": [
      "\r",
      " 20%|██        | 2/10 [00:11<00:41,  5.21s/it]"
     ]
    },
    {
     "name": "stdout",
     "output_type": "stream",
     "text": [
      "TEST: acc: 91.30%\n",
      "nb err dropout=870\n",
      "nb_active_ex = 320, x_train.shape = (59700, 28, 28, 1)\n",
      "TRAIN: acc: 100.00%\n"
     ]
    },
    {
     "name": "stderr",
     "output_type": "stream",
     "text": [
      "\r",
      " 30%|███       | 3/10 [00:22<00:48,  6.90s/it]"
     ]
    },
    {
     "name": "stdout",
     "output_type": "stream",
     "text": [
      "TEST: acc: 93.18%\n",
      "nb err dropout=682\n",
      "nb_active_ex = 420, x_train.shape = (59600, 28, 28, 1)\n",
      "TRAIN: acc: 100.00%\n"
     ]
    },
    {
     "name": "stderr",
     "output_type": "stream",
     "text": [
      "\r",
      " 40%|████      | 4/10 [00:36<00:53,  8.93s/it]"
     ]
    },
    {
     "name": "stdout",
     "output_type": "stream",
     "text": [
      "TEST: acc: 94.03%\n",
      "nb err dropout=597\n",
      "nb_active_ex = 520, x_train.shape = (59500, 28, 28, 1)\n",
      "TRAIN: acc: 100.00%\n"
     ]
    },
    {
     "name": "stderr",
     "output_type": "stream",
     "text": [
      "\r",
      " 50%|█████     | 5/10 [00:52<00:56, 11.24s/it]"
     ]
    },
    {
     "name": "stdout",
     "output_type": "stream",
     "text": [
      "TEST: acc: 95.11%\n",
      "nb err dropout=489\n",
      "nb_active_ex = 620, x_train.shape = (59400, 28, 28, 1)\n",
      "TRAIN: acc: 100.00%\n"
     ]
    },
    {
     "name": "stderr",
     "output_type": "stream",
     "text": [
      "\r",
      " 60%|██████    | 6/10 [01:12<00:55, 13.91s/it]"
     ]
    },
    {
     "name": "stdout",
     "output_type": "stream",
     "text": [
      "TEST: acc: 95.40%\n",
      "nb err dropout=460\n",
      "nb_active_ex = 720, x_train.shape = (59300, 28, 28, 1)\n",
      "TRAIN: acc: 100.00%\n"
     ]
    },
    {
     "name": "stderr",
     "output_type": "stream",
     "text": [
      "\r",
      " 70%|███████   | 7/10 [01:37<00:51, 17.04s/it]"
     ]
    },
    {
     "name": "stdout",
     "output_type": "stream",
     "text": [
      "TEST: acc: 96.23%\n",
      "nb err dropout=377\n",
      "nb_active_ex = 820, x_train.shape = (59200, 28, 28, 1)\n",
      "TRAIN: acc: 100.00%\n"
     ]
    },
    {
     "name": "stderr",
     "output_type": "stream",
     "text": [
      "\r",
      " 80%|████████  | 8/10 [02:03<00:39, 19.67s/it]"
     ]
    },
    {
     "name": "stdout",
     "output_type": "stream",
     "text": [
      "TEST: acc: 96.47%\n",
      "nb err dropout=353\n",
      "nb_active_ex = 920, x_train.shape = (59100, 28, 28, 1)\n",
      "TRAIN: acc: 100.00%\n"
     ]
    },
    {
     "name": "stderr",
     "output_type": "stream",
     "text": [
      "\r",
      " 90%|█████████ | 9/10 [02:35<00:23, 23.52s/it]"
     ]
    },
    {
     "name": "stdout",
     "output_type": "stream",
     "text": [
      "TEST: acc: 96.69%\n",
      "nb err dropout=331\n",
      "nb_active_ex = 1020, x_train.shape = (59000, 28, 28, 1)\n",
      "TRAIN: acc: 100.00%\n"
     ]
    },
    {
     "name": "stderr",
     "output_type": "stream",
     "text": [
      "\r",
      "100%|██████████| 10/10 [03:07<00:00, 25.95s/it]"
     ]
    },
    {
     "name": "stdout",
     "output_type": "stream",
     "text": [
      "TEST: acc: 96.81%\n",
      "nb err dropout=319\n"
     ]
    },
    {
     "name": "stderr",
     "output_type": "stream",
     "text": [
      "\n"
     ]
    }
   ],
   "source": [
    "# Active Learning with random stratgey\n",
    "ActiveLearning()"
   ]
  },
  {
   "cell_type": "code",
   "execution_count": 24,
   "metadata": {
    "ExecuteTime": {
     "end_time": "2019-03-10T12:22:13.354681Z",
     "start_time": "2019-03-10T12:22:13.342244Z"
    }
   },
   "outputs": [],
   "source": [
    "def variationRatioStrategy(model, x_train, nS=100):\n",
    "    \"\"\"Use the variation ratio as strategy.\"\"\"\n",
    "    \n",
    "    # Definition of the new model\n",
    "    MC_output = K.function([model.layers[0].input, K.learning_phase()],\n",
    "                           [model.layers[-1].output])\n",
    "    learning_phase = True  # use dropout at test time\n",
    "    \n",
    "    # Initialisation of fx\n",
    "    fx = []\n",
    "    \n",
    "    # Shape of x_train\n",
    "    nb_train, _, _, _ = x_train.shape\n",
    "\n",
    "    # Compute nS predictions for the testing set\n",
    "    size = 1000\n",
    "    n_step = nb_train // size + 1\n",
    "    \n",
    "    # Loop over each sub portion\n",
    "    for k in range(n_step):\n",
    "        \n",
    "        # Sub x_train for avoiding memory leak out\n",
    "        if k < n_step - 1:\n",
    "            sub_x_train = x_train[k * size:(k + 1) * size, :, :, :]\n",
    "        else:\n",
    "            sub_x_train = x_train[k * size:, :, :, :]\n",
    "            \n",
    "        # Length of sub_x_train\n",
    "        nb_sub_train = len(sub_x_train)\n",
    "        \n",
    "        # Compute the samples\n",
    "        MC_samples_k = [MC_output([sub_x_train, learning_phase])[0] for _ in range(nS)]\n",
    "        MC_samples_k = np.array(MC_samples_k)\n",
    "    \n",
    "        # Compute for every image and every samples the predictions\n",
    "        am_k = np.argmax(MC_samples_k, axis=2)\n",
    "\n",
    "        # Compute the histogram for every images of the predictions\n",
    "        hists_k = [np.histogram(am_k[:, i], range=(0, 10)) for i in range(nb_sub_train)]\n",
    "\n",
    "        # Compute the variation ratio for every image\n",
    "        fx.extend([np.max(hists_k[x][0]) / nS for x in range(nb_sub_train)])\n",
    "\n",
    "    # Sort the samples according to their uncertainity of predictions\n",
    "    uncertain_samples = np.array(fx).argsort()\n",
    "    \n",
    "    return uncertain_samples"
   ]
  },
  {
   "cell_type": "code",
   "execution_count": 25,
   "metadata": {
    "ExecuteTime": {
     "end_time": "2019-03-10T12:48:08.854617Z",
     "start_time": "2019-03-10T12:22:16.520315Z"
    }
   },
   "outputs": [
    {
     "name": "stderr",
     "output_type": "stream",
     "text": [
      "\r",
      "  0%|          | 0/10 [00:00<?, ?it/s]"
     ]
    },
    {
     "name": "stdout",
     "output_type": "stream",
     "text": [
      "nb_active_ex = 120, x_train.shape = (59900, 28, 28, 1)\n",
      "TRAIN: acc: 100.00%\n"
     ]
    },
    {
     "name": "stderr",
     "output_type": "stream",
     "text": [
      "\r",
      " 10%|█         | 1/10 [02:41<24:16, 161.85s/it]"
     ]
    },
    {
     "name": "stdout",
     "output_type": "stream",
     "text": [
      "TEST: acc: 84.02%\n",
      "nb err dropout=1598\n",
      "nb_active_ex = 220, x_train.shape = (59800, 28, 28, 1)\n",
      "TRAIN: acc: 100.00%\n"
     ]
    },
    {
     "name": "stderr",
     "output_type": "stream",
     "text": [
      "\r",
      " 20%|██        | 2/10 [05:38<22:09, 166.17s/it]"
     ]
    },
    {
     "name": "stdout",
     "output_type": "stream",
     "text": [
      "TEST: acc: 92.55%\n",
      "nb err dropout=745\n",
      "nb_active_ex = 320, x_train.shape = (59700, 28, 28, 1)\n",
      "TRAIN: acc: 100.00%\n"
     ]
    },
    {
     "name": "stderr",
     "output_type": "stream",
     "text": [
      "\r",
      " 30%|███       | 3/10 [08:04<18:40, 160.10s/it]"
     ]
    },
    {
     "name": "stdout",
     "output_type": "stream",
     "text": [
      "TEST: acc: 94.17%\n",
      "nb err dropout=583\n",
      "nb_active_ex = 420, x_train.shape = (59600, 28, 28, 1)\n",
      "TRAIN: acc: 100.00%\n"
     ]
    },
    {
     "name": "stderr",
     "output_type": "stream",
     "text": [
      "\r",
      " 40%|████      | 4/10 [10:34<15:43, 157.24s/it]"
     ]
    },
    {
     "name": "stdout",
     "output_type": "stream",
     "text": [
      "TEST: acc: 96.75%\n",
      "nb err dropout=325\n",
      "nb_active_ex = 520, x_train.shape = (59500, 28, 28, 1)\n",
      "TRAIN: acc: 100.00%\n"
     ]
    },
    {
     "name": "stderr",
     "output_type": "stream",
     "text": [
      "\r",
      " 50%|█████     | 5/10 [13:03<12:54, 154.85s/it]"
     ]
    },
    {
     "name": "stdout",
     "output_type": "stream",
     "text": [
      "TEST: acc: 97.43%\n",
      "nb err dropout=257\n",
      "nb_active_ex = 620, x_train.shape = (59400, 28, 28, 1)\n",
      "TRAIN: acc: 100.00%\n"
     ]
    },
    {
     "name": "stderr",
     "output_type": "stream",
     "text": [
      "\r",
      " 60%|██████    | 6/10 [15:33<10:13, 153.39s/it]"
     ]
    },
    {
     "name": "stdout",
     "output_type": "stream",
     "text": [
      "TEST: acc: 97.65%\n",
      "nb err dropout=235\n",
      "nb_active_ex = 720, x_train.shape = (59300, 28, 28, 1)\n",
      "TRAIN: acc: 100.00%\n"
     ]
    },
    {
     "name": "stderr",
     "output_type": "stream",
     "text": [
      "\r",
      " 70%|███████   | 7/10 [18:03<07:36, 152.14s/it]"
     ]
    },
    {
     "name": "stdout",
     "output_type": "stream",
     "text": [
      "TEST: acc: 98.07%\n",
      "nb err dropout=193\n",
      "nb_active_ex = 820, x_train.shape = (59200, 28, 28, 1)\n",
      "TRAIN: acc: 100.00%\n"
     ]
    },
    {
     "name": "stderr",
     "output_type": "stream",
     "text": [
      "\r",
      " 80%|████████  | 8/10 [20:36<05:05, 152.66s/it]"
     ]
    },
    {
     "name": "stdout",
     "output_type": "stream",
     "text": [
      "TEST: acc: 98.16%\n",
      "nb err dropout=184\n",
      "nb_active_ex = 920, x_train.shape = (59100, 28, 28, 1)\n",
      "TRAIN: acc: 100.00%\n"
     ]
    },
    {
     "name": "stderr",
     "output_type": "stream",
     "text": [
      "\r",
      " 90%|█████████ | 9/10 [23:14<02:34, 154.06s/it]"
     ]
    },
    {
     "name": "stdout",
     "output_type": "stream",
     "text": [
      "TEST: acc: 98.38%\n",
      "nb err dropout=162\n",
      "nb_active_ex = 1020, x_train.shape = (59000, 28, 28, 1)\n",
      "TRAIN: acc: 100.00%\n"
     ]
    },
    {
     "name": "stderr",
     "output_type": "stream",
     "text": [
      "\r",
      "100%|██████████| 10/10 [25:50<00:00, 154.63s/it]"
     ]
    },
    {
     "name": "stdout",
     "output_type": "stream",
     "text": [
      "TEST: acc: 98.52%\n",
      "nb err dropout=148\n"
     ]
    },
    {
     "name": "stderr",
     "output_type": "stream",
     "text": [
      "\n"
     ]
    }
   ],
   "source": [
    "# Re-Instantiate the model\n",
    "cnn_model_3 = CNN(verbose=0, batch_size=20, nb_epoch=100)\n",
    "\n",
    "# Definition of the active sets\n",
    "X_active, Y_active, nb_active_ex = ActiveSets()\n",
    "\n",
    "# Fitting of the model\n",
    "cnn_model_3.fit(X_active[0:nb_active_ex,:], Y_active[0:nb_active_ex,:])\n",
    "\n",
    "# Active Learning with uncertain samples according to their variation ratio\n",
    "ActiveLearning(sampling_strategy=variationRatioStrategy, filename='./Results/MC_var_ratio')"
   ]
  },
  {
   "cell_type": "code",
   "execution_count": 26,
   "metadata": {
    "ExecuteTime": {
     "end_time": "2019-03-10T12:48:12.091267Z",
     "start_time": "2019-03-10T12:48:12.087458Z"
    }
   },
   "outputs": [],
   "source": [
    "def deterministicVariationRatio(model, x_train):\n",
    "    \"\"\"Use the deterministic as variation ratio as strategy.\"\"\"\n",
    "    \n",
    "    # Compute the predictions\n",
    "    fx = np.max(model.predict(x_train), axis=-1)\n",
    "\n",
    "    # Sort the samples according to their uncertainity of predictions\n",
    "    uncertain_samples = fx.argsort()\n",
    "    \n",
    "    return uncertain_samples"
   ]
  },
  {
   "cell_type": "code",
   "execution_count": 27,
   "metadata": {
    "ExecuteTime": {
     "end_time": "2019-03-10T12:51:11.082938Z",
     "start_time": "2019-03-10T12:48:15.221836Z"
    },
    "scrolled": true
   },
   "outputs": [
    {
     "name": "stderr",
     "output_type": "stream",
     "text": [
      "\r",
      "  0%|          | 0/10 [00:00<?, ?it/s]"
     ]
    },
    {
     "name": "stdout",
     "output_type": "stream",
     "text": [
      "nb_active_ex = 120, x_train.shape = (59900, 28, 28, 1)\n",
      "TRAIN: acc: 100.00%\n"
     ]
    },
    {
     "name": "stderr",
     "output_type": "stream",
     "text": [
      "\r",
      " 10%|█         | 1/10 [00:06<01:02,  6.89s/it]"
     ]
    },
    {
     "name": "stdout",
     "output_type": "stream",
     "text": [
      "TEST: acc: 84.70%\n",
      "nb err dropout=1530\n",
      "nb_active_ex = 220, x_train.shape = (59800, 28, 28, 1)\n",
      "TRAIN: acc: 100.00%\n"
     ]
    },
    {
     "name": "stderr",
     "output_type": "stream",
     "text": [
      "\r",
      " 20%|██        | 2/10 [00:15<00:59,  7.49s/it]"
     ]
    },
    {
     "name": "stdout",
     "output_type": "stream",
     "text": [
      "TEST: acc: 91.89%\n",
      "nb err dropout=811\n",
      "nb_active_ex = 320, x_train.shape = (59700, 28, 28, 1)\n",
      "TRAIN: acc: 100.00%\n"
     ]
    },
    {
     "name": "stderr",
     "output_type": "stream",
     "text": [
      "\r",
      " 30%|███       | 3/10 [00:27<01:00,  8.65s/it]"
     ]
    },
    {
     "name": "stdout",
     "output_type": "stream",
     "text": [
      "TEST: acc: 94.29%\n",
      "nb err dropout=571\n",
      "nb_active_ex = 420, x_train.shape = (59600, 28, 28, 1)\n",
      "TRAIN: acc: 100.00%\n"
     ]
    },
    {
     "name": "stderr",
     "output_type": "stream",
     "text": [
      "\r",
      " 40%|████      | 4/10 [00:40<01:00, 10.14s/it]"
     ]
    },
    {
     "name": "stdout",
     "output_type": "stream",
     "text": [
      "TEST: acc: 94.92%\n",
      "nb err dropout=508\n",
      "nb_active_ex = 520, x_train.shape = (59500, 28, 28, 1)\n",
      "TRAIN: acc: 100.00%\n"
     ]
    },
    {
     "name": "stderr",
     "output_type": "stream",
     "text": [
      "\r",
      " 50%|█████     | 5/10 [00:56<00:59, 11.96s/it]"
     ]
    },
    {
     "name": "stdout",
     "output_type": "stream",
     "text": [
      "TEST: acc: 96.52%\n",
      "nb err dropout=348\n",
      "nb_active_ex = 620, x_train.shape = (59400, 28, 28, 1)\n",
      "TRAIN: acc: 100.00%\n"
     ]
    },
    {
     "name": "stderr",
     "output_type": "stream",
     "text": [
      "\r",
      " 60%|██████    | 6/10 [01:15<00:55, 13.93s/it]"
     ]
    },
    {
     "name": "stdout",
     "output_type": "stream",
     "text": [
      "TEST: acc: 97.33%\n",
      "nb err dropout=267\n",
      "nb_active_ex = 720, x_train.shape = (59300, 28, 28, 1)\n",
      "TRAIN: acc: 100.00%\n"
     ]
    },
    {
     "name": "stderr",
     "output_type": "stream",
     "text": [
      "\r",
      " 70%|███████   | 7/10 [01:36<00:48, 16.07s/it]"
     ]
    },
    {
     "name": "stdout",
     "output_type": "stream",
     "text": [
      "TEST: acc: 97.59%\n",
      "nb err dropout=241\n",
      "nb_active_ex = 820, x_train.shape = (59200, 28, 28, 1)\n",
      "TRAIN: acc: 100.00%\n"
     ]
    },
    {
     "name": "stderr",
     "output_type": "stream",
     "text": [
      "\r",
      " 80%|████████  | 8/10 [01:59<00:36, 18.27s/it]"
     ]
    },
    {
     "name": "stdout",
     "output_type": "stream",
     "text": [
      "TEST: acc: 97.94%\n",
      "nb err dropout=206\n",
      "nb_active_ex = 920, x_train.shape = (59100, 28, 28, 1)\n",
      "TRAIN: acc: 100.00%\n"
     ]
    },
    {
     "name": "stderr",
     "output_type": "stream",
     "text": [
      "\r",
      " 90%|█████████ | 9/10 [02:25<00:20, 20.54s/it]"
     ]
    },
    {
     "name": "stdout",
     "output_type": "stream",
     "text": [
      "TEST: acc: 98.32%\n",
      "nb err dropout=168\n",
      "nb_active_ex = 1020, x_train.shape = (59000, 28, 28, 1)\n",
      "TRAIN: acc: 100.00%\n"
     ]
    },
    {
     "name": "stderr",
     "output_type": "stream",
     "text": [
      "\r",
      "100%|██████████| 10/10 [02:53<00:00, 22.81s/it]"
     ]
    },
    {
     "name": "stdout",
     "output_type": "stream",
     "text": [
      "TEST: acc: 98.40%\n",
      "nb err dropout=160\n"
     ]
    },
    {
     "name": "stderr",
     "output_type": "stream",
     "text": [
      "\n"
     ]
    }
   ],
   "source": [
    "# Re-Instantiate the model\n",
    "cnn_model_3 = CNN(dropout=0, verbose=0, batch_size=20, nb_epoch=100)\n",
    "\n",
    "# Definition of the active sets\n",
    "X_active, Y_active, nb_active_ex = ActiveSets()\n",
    "\n",
    "# Fitting of the model\n",
    "cnn_model_3.fit(X_active[0:nb_active_ex,:], Y_active[0:nb_active_ex,:])\n",
    "\n",
    "# Active Learning with uncertain samples according to their variation ratio\n",
    "ActiveLearning(sampling_strategy=deterministicVariationRatio,\n",
    "               filename='./Results/deterministic_var_ratio')"
   ]
  },
  {
   "cell_type": "code",
   "execution_count": 28,
   "metadata": {
    "ExecuteTime": {
     "end_time": "2019-03-10T12:51:13.940486Z",
     "start_time": "2019-03-10T12:51:13.931051Z"
    }
   },
   "outputs": [],
   "source": [
    "def displayLearningConvergence():\n",
    "    \"\"\"Display the Learning Convergence for three different strategy.\"\"\"\n",
    "    \n",
    "    # files\n",
    "    files_l = [\"./Results/Random.npz\", \"./Results/MC_var_ratio.npz\",\n",
    "               \"./Results/deterministic_var_ratio.npz\"]\n",
    "    \n",
    "    # Definition of the figure\n",
    "    fig, axs = plt.subplots(1, 3, figsize=(18, 8))\n",
    "    \n",
    "    # X labels\n",
    "    x_labels_1 = [20 + i * 100 for i in range(11)]\n",
    "    x_labels_2 = [20 + i * 100 for i in range(1, 11)]\n",
    "    x_labels_3 = [20 + i * 100 for i in range(4, 11)]\n",
    "    \n",
    "    # Loop over all files\n",
    "    for k, file in enumerate(files_l):\n",
    "        \n",
    "        # Import result\n",
    "        errors = np.load(file)[\"errors\"]\n",
    "        \n",
    "        # Plot the errors\n",
    "        axs[0].plot(x_labels_1, errors[:], label=file[10:-4])\n",
    "        axs[1].plot(x_labels_2, errors[1:], label=file[10:-4])\n",
    "        axs[2].plot(x_labels_3, errors[4:], label=file[10:-4])\n",
    "    \n",
    "        # X labels\n",
    "        axs[0].set_xticks(x_labels_1)\n",
    "        axs[1].set_xticks(x_labels_2)\n",
    "        axs[2].set_xticks(x_labels_3)\n",
    "\n",
    "    for k in range(3):\n",
    "        # Parameter of the figure\n",
    "        axs[k].set_title(\"Active Learning\")\n",
    "        axs[k].set_ylabel(\"Test errors\")\n",
    "        axs[k].set_xlabel('Annoted Examples')\n",
    "        axs[k].legend()\n",
    "        \n",
    "    plt.show()"
   ]
  },
  {
   "cell_type": "code",
   "execution_count": 29,
   "metadata": {
    "ExecuteTime": {
     "end_time": "2019-03-10T12:51:17.447723Z",
     "start_time": "2019-03-10T12:51:16.732579Z"
    }
   },
   "outputs": [
    {
     "data": {
      "image/png": "[encoded data removed]",
      "text/plain": [
       "<Figure size 1296x576 with 3 Axes>"
      ]
     },
     "metadata": {
      "needs_background": "light"
     },
     "output_type": "display_data"
    }
   ],
   "source": [
    "displayLearningConvergence()"
   ]
  },
  {
   "cell_type": "markdown",
   "metadata": {},
   "source": [
    "# Exercice 4 : Incertitude Spatiale pour la Classification d’Images"
   ]
  },
  {
   "cell_type": "markdown",
   "metadata": {},
   "source": [
    "## 4.1 - Definition of the Architecture of the network"
   ]
  },
  {
   "cell_type": "code",
   "execution_count": 30,
   "metadata": {
    "ExecuteTime": {
     "end_time": "2019-03-10T12:51:20.327349Z",
     "start_time": "2019-03-10T12:51:20.221541Z"
    }
   },
   "outputs": [
    {
     "name": "stdout",
     "output_type": "stream",
     "text": [
      "_________________________________________________________________\n",
      "Layer (type)                 Output Shape              Param #   \n",
      "=================================================================\n",
      "conv2d_13 (Conv2D)           (None, 24, 24, 16)        416       \n",
      "_________________________________________________________________\n",
      "max_pooling2d_13 (MaxPooling (None, 12, 12, 16)        0         \n",
      "_________________________________________________________________\n",
      "conv2d_14 (Conv2D)           (None, 8, 8, 32)          12832     \n",
      "_________________________________________________________________\n",
      "max_pooling2d_14 (MaxPooling (None, 4, 4, 32)          0         \n",
      "_________________________________________________________________\n",
      "dropout_9 (Dropout)          (None, 4, 4, 32)          0         \n",
      "_________________________________________________________________\n",
      "conv2d_15 (Conv2D)           (None, 4, 4, 1000)        33000     \n",
      "_________________________________________________________________\n",
      "dropout_10 (Dropout)         (None, 4, 4, 1000)        0         \n",
      "_________________________________________________________________\n",
      "conv2d_16 (Conv2D)           (None, 4, 4, 10)          10010     \n",
      "_________________________________________________________________\n",
      "global_average_pooling2d_1 ( (None, 10)                0         \n",
      "_________________________________________________________________\n",
      "activation_1 (Activation)    (None, 10)                0         \n",
      "=================================================================\n",
      "Total params: 56,258\n",
      "Trainable params: 56,258\n",
      "Non-trainable params: 0\n",
      "_________________________________________________________________\n"
     ]
    }
   ],
   "source": [
    "s= (5,5)\n",
    "input_shape = (28, 28, 1)\n",
    "model = Sequential()\n",
    "model.add(Conv2D(16, kernel_size=(5, 5),  activation='relu',input_shape=input_shape, padding='valid' ))\n",
    "model.add(MaxPooling2D(pool_size=(2, 2)))\n",
    "model.add(Conv2D(32, (5, 5), activation='relu', padding='valid'))\n",
    "model.add(MaxPooling2D(pool_size=(2, 2)))\n",
    "model.add(Dropout(0.25))\n",
    "model.add(Conv2D(1000, (1, 1), activation='relu', padding='valid'))\n",
    "model.add(Dropout(0.5))\n",
    "model.add(Conv2D(10, (1, 1), activation='linear', padding='same'))\n",
    "model.add(GlobalAveragePooling2D())\n",
    "model.add(Activation('softmax'))\n",
    "model.summary()"
   ]
  },
  {
   "cell_type": "markdown",
   "metadata": {},
   "source": [
    "## 4.2 - Fitting of the model"
   ]
  },
  {
   "cell_type": "code",
   "execution_count": 31,
   "metadata": {
    "ExecuteTime": {
     "end_time": "2019-03-10T12:56:49.685825Z",
     "start_time": "2019-03-10T12:51:23.146167Z"
    },
    "scrolled": true
   },
   "outputs": [
    {
     "name": "stdout",
     "output_type": "stream",
     "text": [
      "Train on 60000 samples, validate on 10000 samples\n",
      "Epoch 1/30\n",
      "60000/60000 [==============================] - 9s 155us/step - loss: 0.7343 - acc: 0.7595 - val_loss: 0.2083 - val_acc: 0.9403\n",
      "Epoch 2/30\n",
      "60000/60000 [==============================] - 8s 140us/step - loss: 0.2477 - acc: 0.9260 - val_loss: 0.1276 - val_acc: 0.9648\n",
      "Epoch 3/30\n",
      "60000/60000 [==============================] - 9s 143us/step - loss: 0.1830 - acc: 0.9439 - val_loss: 0.0908 - val_acc: 0.9748\n",
      "Epoch 4/30\n",
      "60000/60000 [==============================] - 9s 149us/step - loss: 0.1473 - acc: 0.9544 - val_loss: 0.0718 - val_acc: 0.9774\n",
      "Epoch 5/30\n",
      "60000/60000 [==============================] - 10s 162us/step - loss: 0.1264 - acc: 0.9614 - val_loss: 0.0658 - val_acc: 0.9797\n",
      "Epoch 6/30\n",
      "60000/60000 [==============================] - 10s 165us/step - loss: 0.1083 - acc: 0.9664 - val_loss: 0.0612 - val_acc: 0.9816\n",
      "Epoch 7/30\n",
      "60000/60000 [==============================] - 11s 178us/step - loss: 0.0980 - acc: 0.9702 - val_loss: 0.0534 - val_acc: 0.9827\n",
      "Epoch 8/30\n",
      "60000/60000 [==============================] - 11s 176us/step - loss: 0.0883 - acc: 0.9726 - val_loss: 0.0517 - val_acc: 0.9835\n",
      "Epoch 9/30\n",
      "60000/60000 [==============================] - 12s 193us/step - loss: 0.0811 - acc: 0.9751 - val_loss: 0.0498 - val_acc: 0.9851\n",
      "Epoch 10/30\n",
      "60000/60000 [==============================] - 11s 180us/step - loss: 0.0732 - acc: 0.9775 - val_loss: 0.0515 - val_acc: 0.9841\n",
      "Epoch 11/30\n",
      "60000/60000 [==============================] - 11s 178us/step - loss: 0.0706 - acc: 0.9779 - val_loss: 0.0390 - val_acc: 0.9872\n",
      "Epoch 12/30\n",
      "60000/60000 [==============================] - 11s 188us/step - loss: 0.0660 - acc: 0.9796 - val_loss: 0.0472 - val_acc: 0.9845\n",
      "Epoch 13/30\n",
      "60000/60000 [==============================] - 11s 188us/step - loss: 0.0615 - acc: 0.9804 - val_loss: 0.0397 - val_acc: 0.9872\n",
      "Epoch 14/30\n",
      "60000/60000 [==============================] - 10s 172us/step - loss: 0.0591 - acc: 0.9813 - val_loss: 0.0354 - val_acc: 0.9900\n",
      "Epoch 15/30\n",
      "60000/60000 [==============================] - 11s 191us/step - loss: 0.0581 - acc: 0.9814 - val_loss: 0.0378 - val_acc: 0.9873\n",
      "Epoch 16/30\n",
      "60000/60000 [==============================] - 11s 190us/step - loss: 0.0542 - acc: 0.9831 - val_loss: 0.0331 - val_acc: 0.9891\n",
      "Epoch 17/30\n",
      "60000/60000 [==============================] - 11s 180us/step - loss: 0.0523 - acc: 0.9836 - val_loss: 0.0318 - val_acc: 0.9904\n",
      "Epoch 18/30\n",
      "60000/60000 [==============================] - 11s 188us/step - loss: 0.0485 - acc: 0.9841 - val_loss: 0.0372 - val_acc: 0.9882\n",
      "Epoch 19/30\n",
      "60000/60000 [==============================] - 12s 196us/step - loss: 0.0476 - acc: 0.9851 - val_loss: 0.0292 - val_acc: 0.9904\n",
      "Epoch 20/30\n",
      "60000/60000 [==============================] - 12s 194us/step - loss: 0.0465 - acc: 0.9852 - val_loss: 0.0337 - val_acc: 0.9894\n",
      "Epoch 21/30\n",
      "60000/60000 [==============================] - 11s 182us/step - loss: 0.0451 - acc: 0.9854 - val_loss: 0.0315 - val_acc: 0.9890\n",
      "Epoch 22/30\n",
      "60000/60000 [==============================] - 12s 192us/step - loss: 0.0430 - acc: 0.9864 - val_loss: 0.0335 - val_acc: 0.9896\n",
      "Epoch 23/30\n",
      "60000/60000 [==============================] - 12s 197us/step - loss: 0.0414 - acc: 0.9868 - val_loss: 0.0333 - val_acc: 0.9901\n",
      "Epoch 24/30\n",
      "60000/60000 [==============================] - 12s 199us/step - loss: 0.0404 - acc: 0.9867 - val_loss: 0.0465 - val_acc: 0.9858\n",
      "Epoch 25/30\n",
      "60000/60000 [==============================] - 11s 189us/step - loss: 0.0398 - acc: 0.9873 - val_loss: 0.0281 - val_acc: 0.9908\n",
      "Epoch 26/30\n",
      "60000/60000 [==============================] - 11s 190us/step - loss: 0.0396 - acc: 0.9869 - val_loss: 0.0261 - val_acc: 0.9917\n",
      "Epoch 27/30\n",
      "60000/60000 [==============================] - 11s 191us/step - loss: 0.0375 - acc: 0.9881 - val_loss: 0.0326 - val_acc: 0.9889\n",
      "Epoch 28/30\n",
      "60000/60000 [==============================] - 12s 201us/step - loss: 0.0357 - acc: 0.9888 - val_loss: 0.0297 - val_acc: 0.9904\n",
      "Epoch 29/30\n",
      "60000/60000 [==============================] - 12s 203us/step - loss: 0.0370 - acc: 0.9880 - val_loss: 0.0296 - val_acc: 0.9899\n",
      "Epoch 30/30\n",
      "60000/60000 [==============================] - 11s 184us/step - loss: 0.0348 - acc: 0.9888 - val_loss: 0.0291 - val_acc: 0.9894\n"
     ]
    },
    {
     "data": {
      "text/plain": [
       "<keras.callbacks.History at 0x7f0c3a567390>"
      ]
     },
     "execution_count": 31,
     "metadata": {},
     "output_type": "execute_result"
    }
   ],
   "source": [
    "# Compilator of the model\n",
    "model.compile(loss='categorical_crossentropy', optimizer=Adam(), metrics=['accuracy'])\n",
    "\n",
    "# Fitting of the model\n",
    "model.fit(x_train, Y_train, batch_size=BATCH_SIZE, epochs=30, verbose=1,\n",
    "          validation_data=(x_test, Y_test))"
   ]
  },
  {
   "cell_type": "markdown",
   "metadata": {},
   "source": [
    "## 4.3 - MC Predictions by the model"
   ]
  },
  {
   "cell_type": "code",
   "execution_count": 32,
   "metadata": {
    "ExecuteTime": {
     "end_time": "2019-03-10T12:57:55.700482Z",
     "start_time": "2019-03-10T12:56:54.194416Z"
    }
   },
   "outputs": [
    {
     "name": "stdout",
     "output_type": "stream",
     "text": [
      "nb errors MC dropout=110.0\n"
     ]
    }
   ],
   "source": [
    "# Number of samples\n",
    "nS = 100\n",
    "\n",
    "# Definition of the MC model\n",
    "MC_output = K.function([model.layers[0].input, K.learning_phase()], [model.layers[-3].output])\n",
    "learning_phase = True  # use dropout at test time\n",
    "\n",
    "# Probabilities predicted by the MC model\n",
    "MC_samples = np.array([MC_output([x_test, learning_phase])[0] for _ in range(nS)])\n",
    "\n",
    "# Save probabilities predicted\n",
    "outfile = './Results/MC_predictions_FCN'\n",
    "np.savez(outfile, MC_samples=MC_samples)\n",
    "\n",
    "# Compute the predictions\n",
    "nS = MC_samples.shape[0]\n",
    "nb_ex =  MC_samples.shape[1]\n",
    "predictions = np.mean(np.mean(MC_samples.reshape(nS, x_test.shape[0], 16, NB_CLASSES), axis=2),\n",
    "                      axis=0)\n",
    "y_preds = np.argmax(predictions, axis=1)\n",
    "\n",
    "# Number of errors\n",
    "nb_err_S = np.where(y_preds != y_test, 1.0,0.0).sum()\n",
    "print(\"nb errors MC dropout=\"+str(nb_err_S))"
   ]
  },
  {
   "cell_type": "markdown",
   "metadata": {},
   "source": [
    "## 4.4 - Incertitude Spatiale"
   ]
  },
  {
   "cell_type": "code",
   "execution_count": 33,
   "metadata": {
    "ExecuteTime": {
     "end_time": "2019-03-10T12:58:00.162439Z",
     "start_time": "2019-03-10T12:57:59.862835Z"
    }
   },
   "outputs": [],
   "source": [
    "# Tensor of size 100x10000x4x4 => logits for predicted (and GT) categories for each region\n",
    "MC_samples_catpred = np.array([MC_samples[:, i, :, :, y_preds[i]] for i in range(nb_ex)])\n",
    "MC_samples_cattrue = np.array([MC_samples[:, i, :,:, y_test[i]] for i in range(nb_ex)])"
   ]
  },
  {
   "cell_type": "code",
   "execution_count": 34,
   "metadata": {
    "ExecuteTime": {
     "end_time": "2019-03-10T12:58:03.744941Z",
     "start_time": "2019-03-10T12:58:03.740759Z"
    }
   },
   "outputs": [
    {
     "data": {
      "text/plain": [
       "(10000, 100, 4, 4)"
      ]
     },
     "execution_count": 34,
     "metadata": {},
     "output_type": "execute_result"
    }
   ],
   "source": [
    "MC_samples_catpred.shape"
   ]
  },
  {
   "cell_type": "code",
   "execution_count": 38,
   "metadata": {
    "ExecuteTime": {
     "end_time": "2019-03-10T12:58:24.138309Z",
     "start_time": "2019-03-10T12:58:24.132319Z"
    }
   },
   "outputs": [],
   "source": [
    "def variance(MC_samples_cat):\n",
    "    \"\"\"Compute the variance of every sub region.\"\"\"\n",
    "    \n",
    "    # Reshape MC_samples_cat\n",
    "    MC_samples_cat = MC_samples_cat.reshape((100, -1))\n",
    "    \n",
    "    # Compute cov matrices\n",
    "    cov = np.cov(MC_samples_cat)\n",
    "    \n",
    "    # Compute variance for each sub region\n",
    "    result = np.array([2 * np.sum(cov[i, :]) - cov[i, i] for i in range(16)])\n",
    "    \n",
    "    return result"
   ]
  },
  {
   "cell_type": "code",
   "execution_count": 39,
   "metadata": {
    "ExecuteTime": {
     "end_time": "2019-03-10T12:58:35.257054Z",
     "start_time": "2019-03-10T12:58:30.508338Z"
    }
   },
   "outputs": [
    {
     "name": "stderr",
     "output_type": "stream",
     "text": [
      "100%|██████████| 10000/10000 [00:02<00:00, 4238.23it/s]\n",
      "100%|██████████| 10000/10000 [00:02<00:00, 4206.49it/s]\n"
     ]
    }
   ],
   "source": [
    "spatial_variances_pred = np.zeros((nb_ex, 16))\n",
    "for i in tqdm(range(nb_ex)):\n",
    "    spatial_variances_pred[i, :] = variance(MC_samples_catpred[i, :, : , :])\n",
    "\n",
    "spatial_variances_true = np.zeros((nb_ex, 16))\n",
    "for i in tqdm(range(nb_ex)):\n",
    "        spatial_variances_true[i, :] = variance(MC_samples_cattrue[i, :, : , :])"
   ]
  },
  {
   "cell_type": "markdown",
   "metadata": {},
   "source": [
    "## 4.5 - Shwo Result"
   ]
  },
  {
   "cell_type": "code",
   "execution_count": 40,
   "metadata": {
    "ExecuteTime": {
     "end_time": "2019-03-10T12:58:47.568615Z",
     "start_time": "2019-03-10T12:58:38.170102Z"
    }
   },
   "outputs": [
    {
     "data": {
      "image/png": "[encoded data removed]",
      "text/plain": [
       "<Figure size 4000x800 with 5 Axes>"
      ]
     },
     "metadata": {
      "needs_background": "light"
     },
     "output_type": "display_data"
    },
    {
     "name": "stdout",
     "output_type": "stream",
     "text": [
      "next example ? (0 to stop) - 1\n"
     ]
    },
    {
     "data": {
      "image/png": "[encoded data removed]",
      "text/plain": [
       "<Figure size 4000x800 with 5 Axes>"
      ]
     },
     "metadata": {
      "needs_background": "light"
     },
     "output_type": "display_data"
    },
    {
     "name": "stdout",
     "output_type": "stream",
     "text": [
      "next example ? (0 to stop) - 0\n"
     ]
    }
   ],
   "source": [
    "# Number of errors of predictions\n",
    "errors = np.where(y_preds != y_test)[0]\n",
    "\n",
    "# Stoping criterion\n",
    "bStop = False\n",
    "\n",
    "# Interval on which to extract an image\n",
    "min = 0\n",
    "max = len(errors)\n",
    "\n",
    "size=6\n",
    "MC_predictions_global = MC_samples.reshape(nS, x_test.shape[0], 16, NB_CLASSES).sum(axis=2)\n",
    "\n",
    "while bStop == False:\n",
    "    \n",
    "    # Extract a misclassified image\n",
    "    cpt = np.random.randint(min, max)\n",
    "    index = errors[cpt]\n",
    "    \n",
    "    # Compute the variance for this image\n",
    "    \n",
    "    # Title of the graphic\n",
    "    title = \"TRUE LABEL=\" + str(y_test[index]) + \"- PRED=\" + str(y_preds[index])\n",
    "    \n",
    "    # Extract the image and its variances\n",
    "    img = x_test[index, :, :, 0].reshape([28,28])\n",
    "    img_var_pred = spatial_variances_pred[index, :].reshape([4, 4])\n",
    "    img_var_true = spatial_variances_true[index, :].reshape([4, 4])\n",
    "    \n",
    "    # Displat the image\n",
    "    fig = plt.figure(dpi=200)\n",
    "    fig.suptitle(title, fontsize=\"x-large\")\n",
    "    fig.set_figheight(4)\n",
    "    fig.set_figwidth(4 * 5)\n",
    "    ax = plt.subplot(151)\n",
    "    plt.imshow(img, cmap='gray')\n",
    "    plt.axis('off')\n",
    "    \n",
    "    # Display the pred spatial variance\n",
    "    ax = plt.subplot(152)\n",
    "    ax.imshow(img_var_pred, cmap='gray')\n",
    "    ax.axis('off')\n",
    "    ax.set_title(\"spatial variance - Class\" + str(y_preds[index]))\n",
    "    \n",
    "    # Display histograms of predictions for the predicted label\n",
    "    ax = plt.subplot(153)\n",
    "    h1 = ax.hist(MC_predictions_global[:, index, y_preds[index]], 10)\n",
    "    lims = [np.round((h1[1][i] + h1[1][i+1]) / 2.0) for i in range(10)]\n",
    "    ax.set_title(\"MC preds - Class\" + str(y_preds[index]))\n",
    "    ax.set_yticks(np.arange(0, 100, 10))\n",
    "    ax.set_xticks(lims)\n",
    "    for item in ([ax.title, ax.xaxis.label, ax.yaxis.label] + ax.get_xticklabels() +\n",
    "                  ax.get_yticklabels()):\n",
    "        item.set_fontsize(size)\n",
    "    \n",
    "    # Displat the true spatial variance\n",
    "    ax = plt.subplot(154)\n",
    "    ax.imshow(img_var_true, cmap='gray')\n",
    "    ax.axis('off')\n",
    "    ax.set_title(\"spatial variance - Class\" + str(y_test[index]))\n",
    "    \n",
    "    # Display histograms of predictions for the true label\n",
    "    ax =plt.subplot(155)\n",
    "    h1 = ax.hist(MC_predictions_global[:, index, y_test[index]], 10)\n",
    "    lims = [np.round((h1[1][i] + h1[1][i+1]) / 2.0) for i in range(10)]\n",
    "    ax.set_title(\"MC preds - Class\" + str(y_test[index]))\n",
    "    ax.set_yticks(np.arange(0, 100, 10))\n",
    "    ax.set_xticks(lims)\n",
    "    for item in ([ax.title, ax.xaxis.label, ax.yaxis.label] + ax.get_xticklabels() +\n",
    "                 ax.get_yticklabels()):\n",
    "        item.set_fontsize(size)\n",
    "\n",
    "    # Show the figures\n",
    "    plt.show()\n",
    "\n",
    "    # Test to contine to display misclassified examples\n",
    "    entry = int(input(\"next example ? (0 to stop) - \"))\n",
    "    if entry == 0:\n",
    "        bStop = True"
   ]
  },
  {
   "cell_type": "code",
   "execution_count": null,
   "metadata": {},
   "outputs": [],
   "source": []
  }
 ],
 "metadata": {
  "kernelspec": {
   "display_name": "Python 3",
   "language": "python",
   "name": "python3"
  },
  "language_info": {
   "codemirror_mode": {
    "name": "ipython",
    "version": 3
   },
   "file_extension": ".py",
   "mimetype": "text/x-python",
   "name": "python",
   "nbconvert_exporter": "python",
   "pygments_lexer": "ipython3",
   "version": "3.6.3"
  },
  "latex_envs": {
   "LaTeX_envs_menu_present": true,
   "autoclose": false,
   "autocomplete": true,
   "bibliofile": "biblio.bib",
   "cite_by": "apalike",
   "current_citInitial": 1,
   "eqLabelWithNumbers": true,
   "eqNumInitial": 1,
   "hotkeys": {
    "equation": "Ctrl-E",
    "itemize": "Ctrl-I"
   },
   "labels_anchors": false,
   "latex_user_defs": false,
   "report_style_numbering": false,
   "user_envs_cfg": false
  },
  "varInspector": {
   "cols": {
    "lenName": 16,
    "lenType": 16,
    "lenVar": 40
   },
   "kernels_config": {
    "python": {
     "delete_cmd_postfix": "",
     "delete_cmd_prefix": "del ",
     "library": "var_list.py",
     "varRefreshCmd": "print(var_dic_list())"
    },
    "r": {
     "delete_cmd_postfix": ") ",
     "delete_cmd_prefix": "rm(",
     "library": "var_list.r",
     "varRefreshCmd": "cat(var_dic_list()) "
    }
   },
   "types_to_exclude": [
    "module",
    "function",
    "builtin_function_or_method",
    "instance",
    "_Feature"
   ],
   "window_display": false
  }
 },
 "nbformat": 4,
 "nbformat_minor": 2
}
